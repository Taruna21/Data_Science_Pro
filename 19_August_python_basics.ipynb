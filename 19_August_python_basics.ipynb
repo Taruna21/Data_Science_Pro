{
 "cells": [
  {
   "cell_type": "code",
   "execution_count": 7,
   "id": "2d7502fd-b1b2-467d-bf04-343fc3079f50",
   "metadata": {},
   "outputs": [
    {
     "name": "stdout",
     "output_type": "stream",
     "text": [
      "x = 6\n",
      "y = 5\n"
     ]
    }
   ],
   "source": [
    "x= 5\n",
    "y= 6\n",
    "\n",
    "x , y  = y , x\n",
    "print(\"x =\",x)\n",
    "print(\"y =\",y)"
   ]
  },
  {
   "cell_type": "code",
   "execution_count": 13,
   "id": "b9f0e9fd-be54-4dce-87ef-e9e0b663def0",
   "metadata": {},
   "outputs": [
    {
     "name": "stdin",
     "output_type": "stream",
     "text": [
      "enter the value: 6\n",
      "enter the value: 7\n"
     ]
    },
    {
     "name": "stdout",
     "output_type": "stream",
     "text": [
      "42\n"
     ]
    }
   ],
   "source": [
    "length = input(\"enter the value:\")\n",
    "width = input(\"enter the value:\")\n",
    "\n",
    "area = int(length)* int(width)\n",
    "print(area)"
   ]
  },
  {
   "cell_type": "code",
   "execution_count": 18,
   "id": "b9af4048-b5d8-46fb-824d-cb53d93564c0",
   "metadata": {},
   "outputs": [
    {
     "name": "stdin",
     "output_type": "stream",
     "text": [
      "enter the value: 7\n"
     ]
    },
    {
     "name": "stdout",
     "output_type": "stream",
     "text": [
      "44.6\n"
     ]
    }
   ],
   "source": [
    "C = input('enter the value:')\n",
    "F = (int(C)*9/5)+32\n",
    "print(F)"
   ]
  },
  {
   "cell_type": "code",
   "execution_count": 20,
   "id": "057de4ab-cce9-40ad-abe3-4fdff52b4023",
   "metadata": {},
   "outputs": [
    {
     "name": "stdout",
     "output_type": "stream",
     "text": [
      "6\n"
     ]
    }
   ],
   "source": [
    "Str = 'Taruna'\n",
    "print(len(Str))\n",
    "      "
   ]
  },
  {
   "cell_type": "code",
   "execution_count": 29,
   "id": "ae93ac76-9cce-41ac-aa7d-d99a611418ea",
   "metadata": {},
   "outputs": [
    {
     "name": "stdin",
     "output_type": "stream",
     "text": [
      "enter the value: aeiouwfergt\n"
     ]
    },
    {
     "name": "stdout",
     "output_type": "stream",
     "text": [
      "6\n"
     ]
    }
   ],
   "source": [
    "str = input(\"enter the value:\")\n",
    "count = 0\n",
    "vowels = \"aeiouAEIOU\"\n",
    "for x in str:\n",
    "   if x in vowels:\n",
    "        count = count +1\n",
    "print(count)"
   ]
  },
  {
   "cell_type": "code",
   "execution_count": 36,
   "id": "a4a6c465-1dd4-4ab6-9a6d-2ce4c760dd45",
   "metadata": {},
   "outputs": [
    {
     "name": "stdin",
     "output_type": "stream",
     "text": [
      "enter the string: fgtrh\n"
     ]
    },
    {
     "name": "stdout",
     "output_type": "stream",
     "text": [
      "hrtgf\n"
     ]
    }
   ],
   "source": [
    "str = input(\"enter the string:\")\n",
    "reverse = str[::-1]\n",
    "print(reverse)"
   ]
  },
  {
   "cell_type": "code",
   "execution_count": 40,
   "id": "cecc31f5-e1b6-40c8-b223-d8c84e526b9e",
   "metadata": {},
   "outputs": [
    {
     "name": "stdout",
     "output_type": "stream",
     "text": [
      "Taruna Patel\n"
     ]
    }
   ],
   "source": [
    "str = \" Taruna Patel \"\n",
    "remove_space = str.strip()\n",
    "print(remove_space)\n"
   ]
  },
  {
   "cell_type": "code",
   "execution_count": null,
   "id": "ff5b6330-c86b-4d85-b68a-56367dd1097e",
   "metadata": {},
   "outputs": [],
   "source": []
  }
 ],
 "metadata": {
  "kernelspec": {
   "display_name": "Python 3 (ipykernel)",
   "language": "python",
   "name": "python3"
  },
  "language_info": {
   "codemirror_mode": {
    "name": "ipython",
    "version": 3
   },
   "file_extension": ".py",
   "mimetype": "text/x-python",
   "name": "python",
   "nbconvert_exporter": "python",
   "pygments_lexer": "ipython3",
   "version": "3.10.8"
  }
 },
 "nbformat": 4,
 "nbformat_minor": 5
}
