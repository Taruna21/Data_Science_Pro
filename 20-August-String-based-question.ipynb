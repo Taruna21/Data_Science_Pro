{
 "cells": [
  {
   "cell_type": "code",
   "execution_count": 4,
   "id": "f7535f12-7c0b-4202-a3cd-f4fce8ac07f3",
   "metadata": {},
   "outputs": [
    {
     "name": "stdout",
     "output_type": "stream",
     "text": [
      "anuraT\n"
     ]
    }
   ],
   "source": [
    "#1. Write a program to reverse a string.\n",
    "\n",
    "str = \"Taruna\"\n",
    "reverse = str[::-1]\n",
    "print(reverse)\n",
    "\n"
   ]
  },
  {
   "cell_type": "code",
   "execution_count": 7,
   "id": "5ce446d3-3afd-46ae-aa48-ef7fdbfa2cd5",
   "metadata": {},
   "outputs": [
    {
     "name": "stdin",
     "output_type": "stream",
     "text": [
      "enter the string: 121\n"
     ]
    },
    {
     "name": "stdout",
     "output_type": "stream",
     "text": [
      "string is palindrome\n"
     ]
    }
   ],
   "source": [
    "#2. Check if a string is a palindrome.\n",
    "\n",
    "str = input(\"enter the string:\")\n",
    "reverse = str[::-1]\n",
    "if str == reverse:\n",
    "    print(\"string is palindrome\")\n",
    "else:\n",
    "    print(\"not palindrome\")\n",
    "    "
   ]
  },
  {
   "cell_type": "code",
   "execution_count": 6,
   "id": "134d59d2-f90d-4305-b946-0f226b7824dd",
   "metadata": {},
   "outputs": [
    {
     "name": "stdin",
     "output_type": "stream",
     "text": [
      "enter the string: kuki\n"
     ]
    },
    {
     "name": "stdout",
     "output_type": "stream",
     "text": [
      "KUKI\n"
     ]
    }
   ],
   "source": [
    "#3. Convert a string to uppercase.\n",
    "\n",
    "str = input(\"enter the string:\")\n",
    "\n",
    "result = str.upper()\n",
    "print(result)\n"
   ]
  },
  {
   "cell_type": "code",
   "execution_count": 7,
   "id": "3e77a506-1a77-4ba8-aa43-c66365166a07",
   "metadata": {},
   "outputs": [
    {
     "name": "stdin",
     "output_type": "stream",
     "text": [
      "enter the string: TDFEVFV\n"
     ]
    },
    {
     "name": "stdout",
     "output_type": "stream",
     "text": [
      "tdfevfv\n"
     ]
    }
   ],
   "source": [
    "#4. Convert a string to lowercase.\n",
    "\n",
    "str = input(\"enter the string:\")\n",
    "result = str.lower()\n",
    "print(result)\n"
   ]
  },
  {
   "cell_type": "code",
   "execution_count": 9,
   "id": "5b8d9b25-9fed-47c1-92ec-f6d1cad2db02",
   "metadata": {},
   "outputs": [
    {
     "name": "stdin",
     "output_type": "stream",
     "text": [
      "enter the string xeuai\n"
     ]
    },
    {
     "name": "stdout",
     "output_type": "stream",
     "text": [
      "4\n"
     ]
    }
   ],
   "source": [
    "#5. Count the number of vowels in a string.\n",
    "\n",
    "str = input(\"enter the string\")\n",
    "count = 0\n",
    "vowels = \"aeiouAEIOU\"\n",
    "for x in str:\n",
    "    if x in vowels:\n",
    "        count += 1\n",
    "print(count)"
   ]
  },
  {
   "cell_type": "code",
   "execution_count": 19,
   "id": "6e5b2072-1a0b-498e-8e64-05d3c0a04b19",
   "metadata": {},
   "outputs": [
    {
     "name": "stdin",
     "output_type": "stream",
     "text": [
      "enter the string waeio\n"
     ]
    },
    {
     "name": "stdout",
     "output_type": "stream",
     "text": [
      "1\n"
     ]
    }
   ],
   "source": [
    "#5. Count the number of consonents in a string.\n",
    "\n",
    "str = input(\"enter the string\")\n",
    "count = 0\n",
    "Value = \"aeiouAEIOU\"\n",
    "for x in str:\n",
    "    if x not in Value:\n",
    "        count += 1\n",
    "print(count)"
   ]
  },
  {
   "cell_type": "code",
   "execution_count": 23,
   "id": "74fe558e-9865-4614-84cf-3a32fbe99642",
   "metadata": {},
   "outputs": [
    {
     "name": "stdin",
     "output_type": "stream",
     "text": [
      "enter the string    rthrysjy      .\n"
     ]
    },
    {
     "name": "stdout",
     "output_type": "stream",
     "text": [
      "rthrysjy      .\n"
     ]
    }
   ],
   "source": [
    "#Remove all whitespaces from a string.\n",
    "\n",
    "str = input(\"enter the string\")\n",
    "result = str.strip()\n",
    "print(result)\n"
   ]
  },
  {
   "cell_type": "code",
   "execution_count": 24,
   "id": "a16b88c1-3fc8-4dfa-88fe-495188ae60d5",
   "metadata": {},
   "outputs": [
    {
     "name": "stdout",
     "output_type": "stream",
     "text": [
      "9\n"
     ]
    }
   ],
   "source": [
    "# 8. Find the length of a string without using the `len()` function.\n",
    "\n",
    "str = \"1235sderg\"\n",
    "print(len(str))"
   ]
  },
  {
   "cell_type": "code",
   "execution_count": 32,
   "id": "2bc1ea71-e5d3-42df-b330-e5eaa05ad77b",
   "metadata": {},
   "outputs": [
    {
     "name": "stdout",
     "output_type": "stream",
     "text": [
      "string contains specific word\n"
     ]
    }
   ],
   "source": [
    "#9. Check if a string contains a specific word.\n",
    "str = \"sed$!@\"\n",
    "specific_world = \"!@#$%^&*\"\n",
    "\n",
    "for str in specific_world:\n",
    "    break\n",
    "print(\"string contains specific word\")\n",
    "\n"
   ]
  },
  {
   "cell_type": "code",
   "execution_count": null,
   "id": "839ee8b6-33ef-4041-b4e0-0fd8ac647f05",
   "metadata": {},
   "outputs": [],
   "source": []
  },
  {
   "cell_type": "code",
   "execution_count": null,
   "id": "b0477783-c7ca-44ad-a886-38b6a2d30c84",
   "metadata": {},
   "outputs": [],
   "source": []
  }
 ],
 "metadata": {
  "kernelspec": {
   "display_name": "Python 3 (ipykernel)",
   "language": "python",
   "name": "python3"
  },
  "language_info": {
   "codemirror_mode": {
    "name": "ipython",
    "version": 3
   },
   "file_extension": ".py",
   "mimetype": "text/x-python",
   "name": "python",
   "nbconvert_exporter": "python",
   "pygments_lexer": "ipython3",
   "version": "3.10.8"
  }
 },
 "nbformat": 4,
 "nbformat_minor": 5
}
