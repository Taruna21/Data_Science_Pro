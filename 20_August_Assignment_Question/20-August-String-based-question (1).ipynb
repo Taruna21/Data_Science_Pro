{
 "cells": [
  {
   "cell_type": "code",
   "execution_count": 14,
   "id": "f7535f12-7c0b-4202-a3cd-f4fce8ac07f3",
   "metadata": {},
   "outputs": [
    {
     "name": "stdout",
     "output_type": "stream",
     "text": [
      "anuraT\n"
     ]
    }
   ],
   "source": [
    "#1. Write a program to reverse a string.\n",
    "\n",
    "str = \"Taruna\"\n",
    "reverse = str[::-1]\n",
    "print(reverse)\n",
    "\n"
   ]
  },
  {
   "cell_type": "code",
   "execution_count": 7,
   "id": "5ce446d3-3afd-46ae-aa48-ef7fdbfa2cd5",
   "metadata": {},
   "outputs": [
    {
     "name": "stdin",
     "output_type": "stream",
     "text": [
      "enter the string: 121\n"
     ]
    },
    {
     "name": "stdout",
     "output_type": "stream",
     "text": [
      "string is palindrome\n"
     ]
    }
   ],
   "source": [
    "#2. Check if a string is a palindrome.\n",
    "\n",
    "str = input(\"enter the string:\")\n",
    "reverse = str[::-1]\n",
    "if str == reverse:\n",
    "    print(\"string is palindrome\")\n",
    "else:\n",
    "    print(\"not palindrome\")\n",
    "    "
   ]
  },
  {
   "cell_type": "code",
   "execution_count": 6,
   "id": "134d59d2-f90d-4305-b946-0f226b7824dd",
   "metadata": {},
   "outputs": [
    {
     "name": "stdin",
     "output_type": "stream",
     "text": [
      "enter the string: kuki\n"
     ]
    },
    {
     "name": "stdout",
     "output_type": "stream",
     "text": [
      "KUKI\n"
     ]
    }
   ],
   "source": [
    "#3. Convert a string to uppercase.\n",
    "\n",
    "str = input(\"enter the string:\")\n",
    "\n",
    "result = str.upper()\n",
    "print(result)\n"
   ]
  },
  {
   "cell_type": "code",
   "execution_count": 7,
   "id": "3e77a506-1a77-4ba8-aa43-c66365166a07",
   "metadata": {},
   "outputs": [
    {
     "name": "stdin",
     "output_type": "stream",
     "text": [
      "enter the string: TDFEVFV\n"
     ]
    },
    {
     "name": "stdout",
     "output_type": "stream",
     "text": [
      "tdfevfv\n"
     ]
    }
   ],
   "source": [
    "#4. Convert a string to lowercase.\n",
    "\n",
    "str = input(\"enter the string:\")\n",
    "result = str.lower()\n",
    "print(result)\n"
   ]
  },
  {
   "cell_type": "code",
   "execution_count": 9,
   "id": "5b8d9b25-9fed-47c1-92ec-f6d1cad2db02",
   "metadata": {},
   "outputs": [
    {
     "name": "stdin",
     "output_type": "stream",
     "text": [
      "enter the string xeuai\n"
     ]
    },
    {
     "name": "stdout",
     "output_type": "stream",
     "text": [
      "4\n"
     ]
    }
   ],
   "source": [
    "#5. Count the number of vowels in a string.\n",
    "\n",
    "str = input(\"enter the string\")\n",
    "count = 0\n",
    "vowels = \"aeiouAEIOU\"\n",
    "for x in str:\n",
    "    if x in vowels:\n",
    "        count += 1\n",
    "print(count)"
   ]
  },
  {
   "cell_type": "code",
   "execution_count": 19,
   "id": "6e5b2072-1a0b-498e-8e64-05d3c0a04b19",
   "metadata": {},
   "outputs": [
    {
     "name": "stdin",
     "output_type": "stream",
     "text": [
      "enter the string waeio\n"
     ]
    },
    {
     "name": "stdout",
     "output_type": "stream",
     "text": [
      "1\n"
     ]
    }
   ],
   "source": [
    "#5. Count the number of consonents in a string.\n",
    "\n",
    "str = input(\"enter the string\")\n",
    "count = 0\n",
    "Value = \"aeiouAEIOU\"\n",
    "for x in str:\n",
    "    if x not in Value:\n",
    "        count += 1\n",
    "print(count)"
   ]
  },
  {
   "cell_type": "code",
   "execution_count": 23,
   "id": "74fe558e-9865-4614-84cf-3a32fbe99642",
   "metadata": {},
   "outputs": [
    {
     "name": "stdin",
     "output_type": "stream",
     "text": [
      "enter the string    rthrysjy      .\n"
     ]
    },
    {
     "name": "stdout",
     "output_type": "stream",
     "text": [
      "rthrysjy      .\n"
     ]
    }
   ],
   "source": [
    "#Remove all whitespaces from a string.\n",
    "\n",
    "str = input(\"enter the string\")\n",
    "result = str.strip()\n",
    "print(result)\n"
   ]
  },
  {
   "cell_type": "code",
   "execution_count": 24,
   "id": "a16b88c1-3fc8-4dfa-88fe-495188ae60d5",
   "metadata": {},
   "outputs": [
    {
     "name": "stdout",
     "output_type": "stream",
     "text": [
      "9\n"
     ]
    }
   ],
   "source": [
    "# 8. Find the length of a string without using the `len()` function.\n",
    "\n",
    "str = \"1235sderg\"\n",
    "print(len(str))"
   ]
  },
  {
   "cell_type": "code",
   "execution_count": 40,
   "id": "839ee8b6-33ef-4041-b4e0-0fd8ac647f05",
   "metadata": {},
   "outputs": [
    {
     "name": "stdout",
     "output_type": "stream",
     "text": [
      "True\n"
     ]
    }
   ],
   "source": [
    "#9. Check if a string contains a specific word.\n",
    "\n",
    "str = \"Yusharth\"\n",
    "value  = \"Y\"\n",
    "for i in str:\n",
    "    if value == i:\n",
    "        print(True)\n",
    "        break\n",
    "    else:\n",
    "        print(False)"
   ]
  },
  {
   "cell_type": "code",
   "execution_count": 41,
   "id": "b0477783-c7ca-44ad-a886-38b6a2d30c84",
   "metadata": {},
   "outputs": [
    {
     "name": "stdout",
     "output_type": "stream",
     "text": [
      "Tusharth\n"
     ]
    }
   ],
   "source": [
    "#10. Replace a word in a string with another word.\n",
    "\n",
    "str = \"Yusharth\"\n",
    "result = str.replace(\"Y\" , \"T\")\n",
    "print(result)"
   ]
  },
  {
   "cell_type": "code",
   "execution_count": 42,
   "id": "1e566037-bc89-4d83-b36e-8f2271b28dde",
   "metadata": {},
   "outputs": [
    {
     "name": "stdout",
     "output_type": "stream",
     "text": [
      "2\n"
     ]
    }
   ],
   "source": [
    "#11. Count the occurrences of a word in a string.\n",
    "\n",
    "str = \"Taruna\"\n",
    "value = \"a\"\n",
    "count = 0\n",
    "for i in range(len(str)):\n",
    "    if str[i] == \"a\":\n",
    "        count = count+1\n",
    "\n",
    "print(count) "
   ]
  },
  {
   "cell_type": "code",
   "execution_count": 50,
   "id": "77d0e7b6-e920-4eca-bae5-f22d25317234",
   "metadata": {},
   "outputs": [
    {
     "name": "stdout",
     "output_type": "stream",
     "text": [
      "8\n"
     ]
    }
   ],
   "source": [
    "\n",
    "#12. Find the first occurrence of a word in a string.\n",
    "\n",
    "def find_first_occurence(word , str):\n",
    "    result = str.find(word)\n",
    "    print(result)\n",
    "    \n",
    "str = \"Hello , What is your name , What you do for living?\"\n",
    "word = \"What\"\n",
    "\n",
    "find_first_occurence(word , str)\n"
   ]
  },
  {
   "cell_type": "code",
   "execution_count": 51,
   "id": "7e8973ad-9292-4005-8f96-328678f7d816",
   "metadata": {},
   "outputs": [
    {
     "name": "stdout",
     "output_type": "stream",
     "text": [
      "28\n"
     ]
    }
   ],
   "source": [
    "#13. Find the last occurrence of a word in a string.\n",
    "\n",
    "\n",
    "def find_first_occurence(word , str):\n",
    "    result = str.rfind(word)\n",
    "    print(result)\n",
    "    \n",
    "str = \"Hello , What is your name , What you do for living?\"\n",
    "word = \"What\"\n",
    "\n",
    "find_first_occurence(word , str)"
   ]
  },
  {
   "cell_type": "code",
   "execution_count": 55,
   "id": "d9ee2282-f9ee-4627-88ac-cce189ac222c",
   "metadata": {},
   "outputs": [
    {
     "name": "stdout",
     "output_type": "stream",
     "text": [
      "['my', 'name']\n"
     ]
    }
   ],
   "source": [
    "#14. Split a string into a list of words.\n",
    "\n",
    "def split_string(str):\n",
    "    result = str.split()\n",
    "    print(result)\n",
    "    \n",
    "str = \"my name\"\n",
    "split_string(str)"
   ]
  },
  {
   "cell_type": "code",
   "execution_count": 58,
   "id": "aadadab4-7d2f-45d1-93af-f4bc2011e1c0",
   "metadata": {},
   "outputs": [
    {
     "name": "stdout",
     "output_type": "stream",
     "text": [
      "HEllo Taruna I know you\n"
     ]
    }
   ],
   "source": [
    "#15. Join a list of words into a string.\n",
    "\n",
    "def join_words(str1, space):\n",
    "\n",
    "    result = space.join(str1)\n",
    "    print(result)\n",
    "str1 = [\"HEllo\", \"Taruna\", \"I know you\"]\n",
    "space = \" \"\n",
    "\n",
    "join_words(str1, space)"
   ]
  },
  {
   "cell_type": "code",
   "execution_count": 61,
   "id": "755cd3e6-4701-4ccf-8e95-6424aac75fd8",
   "metadata": {},
   "outputs": [
    {
     "name": "stdout",
     "output_type": "stream",
     "text": [
      "I_know_how_to_code\n"
     ]
    }
   ],
   "source": [
    "#16. Convert a string where words are separated by spaces to one where words\n",
    "#are separated by underscores.\n",
    "\n",
    "def convert_string(words):\n",
    "    result = words.replace(\" \" , \"_\")\n",
    "    print(result)\n",
    "    \n",
    "words = \"I know how to code\"\n",
    "convert_string(words)"
   ]
  },
  {
   "cell_type": "code",
   "execution_count": 64,
   "id": "a66eab64-8b9a-4fb3-8fbe-25a8111158ca",
   "metadata": {},
   "outputs": [
    {
     "name": "stdout",
     "output_type": "stream",
     "text": [
      "True\n"
     ]
    }
   ],
   "source": [
    "#17. Check if a string starts with a specific word or phrase.\n",
    "\n",
    "def specific_word(str1 , prefix):\n",
    "    if str1.startswith(prefix):\n",
    "        print(True)\n",
    "    else:\n",
    "        print(False)\n",
    "str1 = \"Hello ! , My name is Taruna\"\n",
    "prefix = \"Hello\"\n",
    "\n",
    "specific_word(str1, prefix)\n",
    "    \n",
    "    "
   ]
  },
  {
   "cell_type": "code",
   "execution_count": 67,
   "id": "0b73e363-6d56-4809-bfd1-5c2ca204dcbb",
   "metadata": {},
   "outputs": [
    {
     "name": "stdout",
     "output_type": "stream",
     "text": [
      "True\n"
     ]
    }
   ],
   "source": [
    "#18. Check if a string ends with a specific word or phrase.\n",
    "\n",
    "def specific_word(str1 , suffix):\n",
    "    if str1.endswith(suffix):\n",
    "        print(True)\n",
    "    else:\n",
    "        print(False)\n",
    "str1 = \"Hello ! , My name is Taruna\"\n",
    "suffix = \"Taruna\"\n",
    "specific_word(str1, suffix)"
   ]
  },
  {
   "cell_type": "code",
   "execution_count": 71,
   "id": "e854a616-646f-459c-a713-deb77f6a98b5",
   "metadata": {},
   "outputs": [
    {
     "name": "stdout",
     "output_type": "stream",
     "text": [
      "Hello ! Taruna\n"
     ]
    }
   ],
   "source": [
    "#19. Convert a string to title case (e.g., \"hello world\" to \"Hello World\").\n",
    "\n",
    "def capitalize(str):\n",
    "    result = str.title()\n",
    "    print(result)\n",
    "    \n",
    "str = \"hello ! taruna\"\n",
    "capitalize(str)"
   ]
  },
  {
   "cell_type": "code",
   "execution_count": 2,
   "id": "1d38e399-9557-4a67-a34c-e8030aa10318",
   "metadata": {},
   "outputs": [
    {
     "name": "stdout",
     "output_type": "stream",
     "text": [
      "The longest word in the string is: sentence\n"
     ]
    }
   ],
   "source": [
    "#20. Find the longest word in a string.\n",
    "\n",
    "def find_longest_word(str):\n",
    "    words = input_string.split()\n",
    "    \n",
    "    # Initialize variables to store the longest word and its length\n",
    "    longest_word = \"\"\n",
    "    max_length = 0\n",
    "    \n",
    "    # Iterate through the words and find the longest one\n",
    "    for word in words:\n",
    "        if len(word) > max_length:\n",
    "            longest_word = word\n",
    "            max_length = len(word)\n",
    "    \n",
    "    return longest_word\n",
    "\n",
    "# Example usage\n",
    "input_string = \"This is a sample sentence with some long words.\"\n",
    "result = find_longest_word(input_string)\n",
    "print(\"The longest word in the string is:\", result)\n",
    "    "
   ]
  },
  {
   "cell_type": "code",
   "execution_count": 8,
   "id": "ae0d8ab7-48f9-452e-9af2-f770d7c96e3e",
   "metadata": {},
   "outputs": [
    {
     "name": "stdout",
     "output_type": "stream",
     "text": [
      "The longest word in the string is: a\n"
     ]
    }
   ],
   "source": [
    "#21. Find the shortest word in a string.\n",
    "def find_smallest_word(str):\n",
    "    words = input_string.split()\n",
    "    \n",
    "    # Initialize variables to store the longest word and its length\n",
    "    smallest_word = \"\"\n",
    "    min_length = 1\n",
    "    \n",
    "    # Iterate through the words and find the longest one\n",
    "    for word in words:\n",
    "        if len(word) <= min_length:\n",
    "            smallest_word = word\n",
    "            min_length = len(word)\n",
    "    \n",
    "    return smallest_word\n",
    "\n",
    "# Example usage\n",
    "input_string = \"This is a sample sentence with some long words.\"\n",
    "result = find_smallest_word(input_string)\n",
    "print(\"The longest word in the string is:\", result)\n"
   ]
  },
  {
   "cell_type": "code",
   "execution_count": 9,
   "id": "ddbe0935-4b89-4192-a3c6-d5bbfa36e2da",
   "metadata": {},
   "outputs": [
    {
     "name": "stdout",
     "output_type": "stream",
     "text": [
      "wedef efwef qwdef qsdef aded\n"
     ]
    }
   ],
   "source": [
    "#22. Reverse the order of words in a string.\n",
    "\n",
    "def reverse_the_order(str):\n",
    "    \n",
    "    words = str.split()\n",
    "    reverse = words[::-1]\n",
    "    \n",
    "    result = \" \".join(reverse)\n",
    "    \n",
    "    print(result)\n",
    "    \n",
    "str = \"aded qsdef qwdef efwef wedef\"\n",
    "reverse_the_order(str)\n",
    "    \n",
    "    "
   ]
  },
  {
   "cell_type": "code",
   "execution_count": 11,
   "id": "4f54dc1d-27b1-41a7-bf28-5131a5257074",
   "metadata": {},
   "outputs": [
    {
     "name": "stdout",
     "output_type": "stream",
     "text": [
      "True\n"
     ]
    }
   ],
   "source": [
    "#23. Check if a string is alphanumeric.\n",
    "\n",
    "def alphanumeric_string(str):\n",
    "    if str.isalnum():\n",
    "    \n",
    "        print(True)\n",
    "        \n",
    "    else:\n",
    "        print(False)\n",
    "        \n",
    "str = \"SFF123\"\n",
    "alphanumeric_string(str)"
   ]
  },
  {
   "cell_type": "code",
   "execution_count": 1,
   "id": "8f6c19fa-0bbb-431b-8365-74d38fb23dcf",
   "metadata": {},
   "outputs": [
    {
     "name": "stdout",
     "output_type": "stream",
     "text": [
      "Alphabetic characters extracted: HelloWorld\n"
     ]
    }
   ],
   "source": [
    "#25. Extract all alphabets from a string.\n",
    "\n",
    "input_string = \"Hello123, World!\"\n",
    "\n",
    "# Initialize an empty string to store the extracted alphabetic characters\n",
    "alphabetic_characters = \"\"\n",
    "\n",
    "# Iterate through the characters in the input string\n",
    "for char in input_string:\n",
    "    if char.isalpha():\n",
    "        alphabetic_characters += char\n",
    "\n",
    "print(\"Alphabetic characters extracted:\", alphabetic_characters)\n",
    "\n"
   ]
  },
  {
   "cell_type": "code",
   "execution_count": 5,
   "id": "641c1734-2e0f-46a5-ad73-c82814da7af0",
   "metadata": {},
   "outputs": [
    {
     "name": "stdout",
     "output_type": "stream",
     "text": [
      "6\n"
     ]
    }
   ],
   "source": [
    "#26. Count the number of uppercase letters in a string.\n",
    "\n",
    "def count_uppercase(string):\n",
    "    c =0\n",
    "    for char in string:\n",
    "        if char.isupper():\n",
    "            c += 1\n",
    "            \n",
    "    print(c)\n",
    "    \n",
    "string = \"AdffAAAAA\"\n",
    "count_uppercase(string)\n",
    "        \n",
    "        "
   ]
  },
  {
   "cell_type": "code",
   "execution_count": 6,
   "id": "edaafd92-a94b-4557-b848-67a77f2a02af",
   "metadata": {},
   "outputs": [
    {
     "name": "stdout",
     "output_type": "stream",
     "text": [
      "3\n"
     ]
    }
   ],
   "source": [
    "#27. Count the number of lowercase letters in a string.\n",
    "\n",
    "\n",
    "def count_lowercase(string):\n",
    "    c =0\n",
    "    for char in string:\n",
    "        if char.islower():\n",
    "            c += 1\n",
    "            \n",
    "    print(c)\n",
    "    \n",
    "string = \"AdffAAAAA\"\n",
    "count_lowercase(string)\n",
    "        \n",
    "        "
   ]
  },
  {
   "cell_type": "code",
   "execution_count": 7,
   "id": "abf8fa25-d8d0-4c7a-825c-10ae00b95cf5",
   "metadata": {},
   "outputs": [
    {
     "name": "stdout",
     "output_type": "stream",
     "text": [
      "SDWEGTERTAaaaaa\n"
     ]
    }
   ],
   "source": [
    "#28. Swap the case of each character in a string.\n",
    "def swap_case(string):\n",
    "    result = string.swapcase()\n",
    "    \n",
    "    print(result)\n",
    "string =\"sdwegtertaAAAAA\"\n",
    "swap_case(string)"
   ]
  },
  {
   "cell_type": "code",
   "execution_count": 12,
   "id": "8782e81e-b7be-4678-8b24-b6bb9a0f7dec",
   "metadata": {},
   "outputs": [
    {
     "name": "stdout",
     "output_type": "stream",
     "text": [
      " my name is taruna\n"
     ]
    }
   ],
   "source": [
    "#29. Remove a specific word from a string.\n",
    "\n",
    "def remove_word(string , word):\n",
    "    result = string.replace(word , \"\")\n",
    "    print(result)\n",
    "string = \"hello , my name is taruna\"\n",
    "word = \"hello ,\"\n",
    "remove_word(string , word)\n",
    "    "
   ]
  },
  {
   "cell_type": "code",
   "execution_count": 31,
   "id": "d62bcaa7-dfc0-4c35-8050-cc86419ab30f",
   "metadata": {},
   "outputs": [
    {
     "name": "stdout",
     "output_type": "stream",
     "text": [
      "example@gmail.com is a valid email address.\n"
     ]
    }
   ],
   "source": [
    "#30. Check if a string is a valid email address.\n",
    "\n",
    "import re\n",
    "\n",
    "def is_valid_email(email):\n",
    "    # Define a regular expression pattern for a basic email validation\n",
    "    pattern = r'^[\\w\\.-]+@[\\w\\.-]+\\.\\w+$'\n",
    "    \n",
    "    # Use re.match() to check if the email matches the pattern\n",
    "    if re.match(pattern, email):\n",
    "        return True\n",
    "    else:\n",
    "        return False\n",
    "\n",
    "email = \"example@gmail.com\"\n",
    "if is_valid_email(email):\n",
    "    print(f\"{email} is a valid email address.\")\n",
    "else:\n",
    "    print(f\"{email} is not a valid email address.\")\n"
   ]
  },
  {
   "cell_type": "code",
   "execution_count": 35,
   "id": "7f041b8f-3caf-4c33-aeee-44f4de99c5c0",
   "metadata": {},
   "outputs": [
    {
     "name": "stdout",
     "output_type": "stream",
     "text": [
      "taruna\n"
     ]
    }
   ],
   "source": [
    "#31. Extract the username from an email address string.\n",
    "\n",
    "def extract_username(email):\n",
    "    username , domain = email.split('@')\n",
    "    print(username)\n",
    "    \n",
    "email = \"taruna@gmail.com\"\n",
    "extract_username(email)\n",
    "    \n"
   ]
  },
  {
   "cell_type": "code",
   "execution_count": 36,
   "id": "6115d5ce-d419-41df-ae18-164127e8d60b",
   "metadata": {},
   "outputs": [
    {
     "name": "stdout",
     "output_type": "stream",
     "text": [
      "gmail.com\n"
     ]
    }
   ],
   "source": [
    "#32. Extract the domain name from an email address string.\n",
    "\n",
    "\n",
    "def extract_username(email):\n",
    "    username , domain = email.split('@')\n",
    "    print(domain)\n",
    "    \n",
    "email = \"taruna@gmail.com\"\n",
    "extract_username(email)\n",
    "    "
   ]
  },
  {
   "cell_type": "code",
   "execution_count": 37,
   "id": "5ff1e000-540f-4833-be3f-4bc3439948e7",
   "metadata": {},
   "outputs": [
    {
     "name": "stdout",
     "output_type": "stream",
     "text": [
      "Original string: This    is   a    string   with    multiple   spaces.\n",
      "String with multiple spaces replaced: This is a string with multiple spaces.\n"
     ]
    }
   ],
   "source": [
    "#33. Replace multiple spaces in a string with a single space.\n",
    "\n",
    "def replace_multiple_spaces(input_string):\n",
    "    # Split the string by spaces\n",
    "    words = input_string.split()\n",
    "\n",
    "    # Join the words back together with a single space\n",
    "    cleaned_string = ' '.join(words)\n",
    "    \n",
    "    return cleaned_string\n",
    "\n",
    "# Example usage\n",
    "input_string = \"This    is   a    string   with    multiple   spaces.\"\n",
    "result = replace_multiple_spaces(input_string)\n",
    "print(\"Original string:\", input_string)\n",
    "print(\"String with multiple spaces replaced:\", result)\n"
   ]
  },
  {
   "cell_type": "code",
   "execution_count": 38,
   "id": "c5a83e8f-64a5-4f01-a5fb-10b919098a12",
   "metadata": {},
   "outputs": [
    {
     "name": "stdout",
     "output_type": "stream",
     "text": [
      "Original string: This    is   a    string   with    multiple   spaces.\n",
      "String with multiple spaces replaced: This is a string with multiple spaces.\n"
     ]
    }
   ],
   "source": [
    "import re\n",
    "\n",
    "def replace_multiple_spaces(input_string):\n",
    "    # Use re.sub() to replace multiple spaces with a single space\n",
    "    cleaned_string = re.sub(r'\\s+', ' ', input_string)\n",
    "    \n",
    "    return cleaned_string\n",
    "\n",
    "# Example usage\n",
    "input_string = \"This    is   a    string   with    multiple   spaces.\"\n",
    "result = replace_multiple_spaces(input_string)\n",
    "print(\"Original string:\", input_string)\n",
    "print(\"String with multiple spaces replaced:\", result)\n"
   ]
  },
  {
   "cell_type": "code",
   "execution_count": 39,
   "id": "c0c7fd65-4273-4482-b76b-17ef5ce38b51",
   "metadata": {},
   "outputs": [
    {
     "name": "stdout",
     "output_type": "stream",
     "text": [
      "https://www.example.com is a valid URL.\n"
     ]
    }
   ],
   "source": [
    "#34. Check if a string is a valid URL.\n",
    "\n",
    "import re\n",
    "\n",
    "def is_valid_url(url):\n",
    "    # Define a regular expression pattern for basic URL validation\n",
    "    pattern = r'^(https?|ftp)://[^\\s/$.?#].[^\\s]*$'\n",
    "    \n",
    "    # Use re.match() to check if the URL matches the pattern\n",
    "    if re.match(pattern, url):\n",
    "        return True\n",
    "    else:\n",
    "        return False\n",
    "\n",
    "# Test the function with a URL\n",
    "url = \"https://www.example.com\"\n",
    "if is_valid_url(url):\n",
    "    print(f\"{url} is a valid URL.\")\n",
    "else:\n",
    "    print(f\"{url} is not a valid URL.\")\n",
    "\n"
   ]
  },
  {
   "cell_type": "code",
   "execution_count": 40,
   "id": "0b308a62-13c5-4b98-a3eb-eb2fddf5969d",
   "metadata": {},
   "outputs": [
    {
     "name": "stdout",
     "output_type": "stream",
     "text": [
      "https\n"
     ]
    }
   ],
   "source": [
    "#35. Extract the protocol (http or https) from a URL string.\n",
    "\n",
    "def extract_protocol(url):\n",
    "    protocol , urlstring = url.split(':')\n",
    "    print(protocol)\n",
    "    \n",
    "url = \"https:/www.taruna.com\"\n",
    "extract_protocol(url)"
   ]
  },
  {
   "cell_type": "code",
   "execution_count": 42,
   "id": "fea65bc1-f337-46e4-8258-f480ac725c31",
   "metadata": {},
   "outputs": [
    {
     "name": "stdout",
     "output_type": "stream",
     "text": [
      "Character 'h' appears 1 times.\n",
      "Character 'e' appears 1 times.\n",
      "Character 'l' appears 3 times.\n",
      "Character 'o' appears 2 times.\n",
      "Character 'w' appears 1 times.\n",
      "Character 'r' appears 1 times.\n",
      "Character 'd' appears 1 times.\n"
     ]
    }
   ],
   "source": [
    "#36. Find the frequency of each character in a string.\n",
    "\n",
    "def character_frequency(input_string):\n",
    "    # Initialize an empty dictionary to store character frequencies\n",
    "    frequency_dict = {}\n",
    "\n",
    "    # Iterate through each character in the input string\n",
    "    for char in input_string:\n",
    "        # Skip spaces\n",
    "        if char == ' ':\n",
    "            continue\n",
    "\n",
    "        # Check if the character is already in the dictionary\n",
    "        if char in frequency_dict:\n",
    "            # If it's in the dictionary, increment the count\n",
    "            frequency_dict[char] += 1\n",
    "        else:\n",
    "            # If it's not in the dictionary, add it with a count of 1\n",
    "            frequency_dict[char] = 1\n",
    "\n",
    "    return frequency_dict\n",
    "\n",
    "# Example usage\n",
    "input_string = \"hello world\"\n",
    "frequency_result = character_frequency(input_string)\n",
    "\n",
    "# Print the character frequencies\n",
    "for char, frequency in frequency_result.items():\n",
    "    print(f\"Character '{char}' appears {frequency} times.\")\n"
   ]
  },
  {
   "cell_type": "code",
   "execution_count": 45,
   "id": "c43e70f1-d8ee-47da-9757-ca8d89288707",
   "metadata": {},
   "outputs": [
    {
     "name": "stdout",
     "output_type": "stream",
     "text": [
      "Original string: Hello, World! This is an example text.\n",
      "String with punctuation removed: Hello World This is an example text\n"
     ]
    }
   ],
   "source": [
    "#37. Remove all punctuation from a string.\n",
    "\n",
    "\n",
    "\n",
    "def remove_punctuation(input_string):\n",
    "    # Define a translation table to remove punctuation\n",
    "    translator = str.maketrans('', '', string.punctuation)\n",
    "    \n",
    "    # Use translate() to remove punctuation from the input string\n",
    "    cleaned_string = input_string.translate(translator)\n",
    "    \n",
    "    return cleaned_string\n",
    "\n",
    "# Example usage\n",
    "input_string = \"Hello, World! This is an example text.\"\n",
    "cleaned_result = remove_punctuation(input_string)\n",
    "print(\"Original string:\", input_string)\n",
    "print(\"String with punctuation removed:\", cleaned_result)\n",
    "\n"
   ]
  },
  {
   "cell_type": "code",
   "execution_count": 5,
   "id": "a532ff9a-0dff-4b3f-8150-99e80d20fc5a",
   "metadata": {},
   "outputs": [
    {
     "name": "stdout",
     "output_type": "stream",
     "text": [
      "234 contains digit\n"
     ]
    }
   ],
   "source": [
    "#38. Check if a string contains only digits.\n",
    "\n",
    "def digit(string):\n",
    "    \n",
    "    if string.isdigit():\n",
    "        print(f\"{string} contains digit\")\n",
    "    else:\n",
    "        print(f\"{string} does not contain digit\")\n",
    "        \n",
    "string = \"234\"\n",
    "digit(string)"
   ]
  },
  {
   "cell_type": "code",
   "execution_count": 7,
   "id": "03bfbe30-2e0f-4941-a09c-383fcd1ef743",
   "metadata": {},
   "outputs": [
    {
     "name": "stdout",
     "output_type": "stream",
     "text": [
      "234 does not contain alphabet\n"
     ]
    }
   ],
   "source": [
    "#39. Check if a string contains only alphabets.\n",
    "\n",
    "\n",
    "def alpha(string):\n",
    "    \n",
    "    if string.isalpha():\n",
    "        print(f\"{string} contains alphabet\")\n",
    "    else:\n",
    "        print(f\"{string} does not contain alphabet\")\n",
    "        \n",
    "string = \"234\"\n",
    "alpha(string)"
   ]
  },
  {
   "cell_type": "code",
   "execution_count": 8,
   "id": "ac02bf2f-e296-4ecf-a06d-63ad8360a054",
   "metadata": {},
   "outputs": [
    {
     "name": "stdout",
     "output_type": "stream",
     "text": [
      "['d', 'f', 'h', 'g', 'j', 'y']\n"
     ]
    }
   ],
   "source": [
    "#40. Convert a string to a list of characters.\n",
    "\n",
    "def list_ofchar(string):\n",
    "    char = list(string)\n",
    "    print(char)\n",
    "    \n",
    "string = \"dfhgjy\"\n",
    "list_ofchar(string)"
   ]
  },
  {
   "cell_type": "code",
   "execution_count": 18,
   "id": "6b72050e-5f88-478c-b774-b3b01db35f2e",
   "metadata": {},
   "outputs": [
    {
     "name": "stdout",
     "output_type": "stream",
     "text": [
      "The strings are anagrams.\n"
     ]
    }
   ],
   "source": [
    "#41. Check if two strings are anagrams.\n",
    "def are_anagrams(string1, string2):\n",
    "    # Remove spaces and convert both strings to lowercase (if case-insensitive comparison is desired)\n",
    "    string1 = string1.replace(\" \", \"\").lower()\n",
    "    string2 = string2.replace(\" \", \"\").lower()\n",
    "\n",
    "    # Check if the lengths of the strings are the same\n",
    "    if len(string1) != len(string2):\n",
    "        return False\n",
    "\n",
    "    # Count the frequency of each character in both strings\n",
    "    char_count1 = {}\n",
    "    char_count2 = {}\n",
    "\n",
    "    for char in string1:\n",
    "        char_count1[char] = char_count1.get(char, 0) + 1\n",
    "\n",
    "    for char in string2:\n",
    "        char_count2[char] = char_count2.get(char, 0) + 1\n",
    "\n",
    "    # Compare the character counts\n",
    "    return char_count1 == char_count2\n",
    "\n",
    "# Test cases\n",
    "string1 = \"cat\"\n",
    "string2 = \"tac\"\n",
    "\n",
    "if are_anagrams(string1, string2):\n",
    "    print(\"The strings are anagrams.\")\n",
    "else:\n",
    "    print(\"The strings are not anagrams.\")\n",
    "\n",
    "    "
   ]
  },
  {
   "cell_type": "code",
   "execution_count": 19,
   "id": "8e88c634-56a5-454f-a637-efd1786e1f05",
   "metadata": {},
   "outputs": [
    {
     "name": "stdout",
     "output_type": "stream",
     "text": [
      "Khoor, Zruog!\n"
     ]
    }
   ],
   "source": [
    "#42. Encode a string using a Caesar cipher.\n",
    "\n",
    "def caesar_cipher(text, shift):\n",
    "    result = []\n",
    "\n",
    "    for char in text:\n",
    "        if char.isalpha():\n",
    "            # Determine whether the character is uppercase or lowercase\n",
    "            is_upper = char.isupper()\n",
    "            # Convert the character to uppercase for consistency\n",
    "            char = char.upper()\n",
    "            # Calculate the new character code after applying the shift\n",
    "            char_code = ord(char) + shift\n",
    "            # Ensure the new character code is within the range of 'A' to 'Z'\n",
    "            if char_code > ord('Z'):\n",
    "                char_code -= 26\n",
    "            elif char_code < ord('A'):\n",
    "                char_code += 26\n",
    "            # Convert the character code back to the original case\n",
    "            if is_upper:\n",
    "                result.append(chr(char_code))\n",
    "            else:\n",
    "                result.append(chr(char_code).lower())\n",
    "        else:\n",
    "            # If the character is not alphabetic, keep it unchanged\n",
    "            result.append(char)\n",
    "\n",
    "    return ''.join(result)\n",
    "\n",
    "# Example usage:\n",
    "plaintext = \"Hello, World!\"\n",
    "shift_amount = 3\n",
    "encrypted_text = caesar_cipher(plaintext, shift_amount)\n",
    "print(encrypted_text)\n"
   ]
  },
  {
   "cell_type": "code",
   "execution_count": 21,
   "id": "c0901c22-e8a7-46ce-b333-0dbc9af21c09",
   "metadata": {},
   "outputs": [
    {
     "name": "stdout",
     "output_type": "stream",
     "text": [
      "Hello, World!\n"
     ]
    }
   ],
   "source": [
    "def caesar_decipher(text, shift):\n",
    "    result = []\n",
    "\n",
    "    for char in text:\n",
    "        if char.isalpha():  # Check if the character is a letter\n",
    "            is_upper = char.isupper()\n",
    "            char = char.upper()\n",
    "            char_code = ord(char) - shift  # Deciphering involves subtracting the shift\n",
    "            if char_code > ord('Z'):\n",
    "                char_code -= 26\n",
    "            elif char_code < ord('A'):\n",
    "                char_code += 26\n",
    "            if is_upper:\n",
    "                result.append(chr(char_code))\n",
    "            else:\n",
    "                result.append(chr(char_code).lower())\n",
    "        else:\n",
    "            result.append(char)\n",
    "\n",
    "    return ''.join(result)\n",
    "\n",
    "# Example usage:\n",
    "encoded_text = \"Khoor, Zruog!\"\n",
    "shift_amount = 3\n",
    "decoded_text = caesar_decipher(encoded_text, shift_amount)\n",
    "print(decoded_text)\n"
   ]
  },
  {
   "cell_type": "code",
   "execution_count": null,
   "id": "571899c6-f481-44af-958f-7125a718d87d",
   "metadata": {},
   "outputs": [],
   "source": [
    "#44. Find the most frequent word in a string.\n",
    "def most_frequent_word(input_string):\n",
    "    # Convert the input string to lowercase for case-insensitive comparison\n",
    "    input_string = input_string.lower()\n",
    "\n",
    "\n",
    "    # Split the string into words using spaces as separators\n",
    "    words = input_string.split()\n",
    "\n",
    "    # Create a dictionary to store word frequencies\n",
    "    word_freq = {}\n",
    "\n",
    "    # Iterate through the words and update their frequencies\n",
    "    for word in words:\n",
    "        if word in word_freq:\n",
    "            word_freq[word] += 1\n",
    "        else:\n",
    "            word_freq[word] = 1\n",
    "\n",
    "    # Find the most frequent word and its frequency\n",
    "    most_common_word = None\n",
    "    max_frequency = 0\n",
    "\n",
    "    for word, frequency in word_freq.items():\n",
    "        if frequency > max_frequency:\n",
    "            most_common_word = word\n",
    "            max_frequency = frequency\n",
    "\n",
    "    return most_common_word, max_frequency\n",
    "\n",
    "# Example usage:\n",
    "text = \"This is a sample text. Sample text is used for demonstration purposes. This is it.\"\n",
    "most_common, frequency = most_frequent_word(text)\n",
    "print(f\"The most frequent word is '{most_common}' with a frequency of {frequency}.\")\n",
    "\n"
   ]
  },
  {
   "cell_type": "code",
   "execution_count": 20,
   "id": "40cf310c-86a8-4af8-b0f6-91510c996230",
   "metadata": {},
   "outputs": [
    {
     "name": "stdout",
     "output_type": "stream",
     "text": [
      "Unique words:\n",
      "a\n",
      "used\n",
      "for\n",
      "demonstration\n",
      "purposes\n",
      "it\n"
     ]
    }
   ],
   "source": [
    "#Find all unique words in a string.\n",
    "def unique_words(input_string):\n",
    "    # Split the string into words using spaces as separators\n",
    "    input_string = input_string.lower()\n",
    "    words = input_string.split()\n",
    "\n",
    "    # Create a dictionary to store word frequencies\n",
    "    word_freq = {}\n",
    "\n",
    "    # Iterate through the words, counting their frequencies\n",
    "    for word in words:\n",
    "        if word in word_freq:\n",
    "            word_freq[word] += 1\n",
    "        else:\n",
    "            word_freq[word] = 1\n",
    "\n",
    "    # Find unique words (words with frequency 1)\n",
    "    unique_words = [word for word, freq in word_freq.items() if freq == 1]\n",
    "\n",
    "    return unique_words\n",
    "\n",
    "# Example usage:\n",
    "text = \"This is a sample text . Sample text is used for demonstration purposes . This is it .\"\n",
    "unique_words_list = unique_words(text)\n",
    "\n",
    "print(\"Unique words:\")\n",
    "for word in unique_words_list:\n",
    "    print(word)\n",
    "\n",
    "  \n",
    "                \n"
   ]
  },
  {
   "cell_type": "code",
   "execution_count": 22,
   "id": "6a6a832d-5f4c-45ea-9d40-1a83dc0e89d2",
   "metadata": {},
   "outputs": [
    {
     "name": "stdout",
     "output_type": "stream",
     "text": [
      "Total syllables: 8\n"
     ]
    }
   ],
   "source": [
    "#46. Count the number of syllables in a string.\n",
    "\n",
    "def count_syllables(word):\n",
    "    word = word.lower()\n",
    "    count = 0\n",
    "    vowels = \"aeiouy\"\n",
    "\n",
    "    if word[0] in vowels:\n",
    "        count += 1\n",
    "\n",
    "    for i in range(1, len(word)):\n",
    "        if word[i] in vowels and word[i - 1] not in vowels:\n",
    "            count += 1\n",
    "\n",
    "    if word.endswith(\"e\"):\n",
    "        count -= 1\n",
    "\n",
    "    if count == 0:\n",
    "        count = 1\n",
    "\n",
    "    return count\n",
    "\n",
    "def count_syllables_in_text(text):\n",
    "    words = text.split()\n",
    "    total_syllables = sum(count_syllables(word) for word in words)\n",
    "    return total_syllables\n",
    "\n",
    "# Example usage:\n",
    "text = \"Hello, how are you doing today?\"\n",
    "syllable_count = count_syllables_in_text(text)\n",
    "print(f\"Total syllables: {syllable_count}\")\n"
   ]
  },
  {
   "cell_type": "code",
   "execution_count": 36,
   "id": "ed9a0f5f-39f8-4b0c-a0fe-70754f36b334",
   "metadata": {},
   "outputs": [
    {
     "name": "stdout",
     "output_type": "stream",
     "text": [
      "String contains special character\n"
     ]
    }
   ],
   "source": [
    "#\n",
    "def contains_special_char(input_string):\n",
    "    special_chars = \"!@#$%^&*()_+{}[]:;<>,.?/\\\\|-~\"\n",
    "    \n",
    "    for char in input_string:\n",
    "        if char in special_chars:\n",
    "            return True\n",
    "    \n",
    "    return False\n",
    "\n",
    "# Example usage:\n",
    "string = \"ad ,_dff\"\n",
    "if contains_special_char(string):\n",
    "    print(\"String contains special character\")\n",
    "else:\n",
    "    print(\"String does not contain any special characters\")\n",
    "\n",
    "        "
   ]
  },
  {
   "cell_type": "code",
   "execution_count": 37,
   "id": "daf3b8e8-caff-4f4b-b4e8-091fbdfb3e8c",
   "metadata": {},
   "outputs": [
    {
     "name": "stdin",
     "output_type": "stream",
     "text": [
      " kjj\n"
     ]
    },
    {
     "name": "stdout",
     "output_type": "stream",
     "text": [
      "ghh \n"
     ]
    }
   ],
   "source": [
    "#48. Remove the nth word from a string.\n",
    "\n",
    "def remove_word(str):\n",
    "    word = input()\n",
    "    result = str.replace(word , '')\n",
    "    print(result)\n",
    "str = \"ghh kjj\"\n",
    "remove_word(str)"
   ]
  },
  {
   "cell_type": "code",
   "execution_count": 46,
   "id": "afe20ef4-945a-4c7a-932c-304b0651dd61",
   "metadata": {},
   "outputs": [
    {
     "name": "stdout",
     "output_type": "stream",
     "text": [
      "This new is a sample sentence.\n"
     ]
    }
   ],
   "source": [
    "#49. Insert a word at the nth position in a string.\n",
    "def insert_word_at_nth_position(original_string, word_to_insert, n):\n",
    "    # Check if the position is valid\n",
    "    if n < 0 or n > len(original_string):\n",
    "        return \"Invalid position\"\n",
    "\n",
    "    # Create the new string with the word inserted at the nth position\n",
    "    new_string = original_string[:n]  + word_to_insert + \" \" + original_string[n:]\n",
    "\n",
    "    return new_string\n",
    "\n",
    "# Example usage:\n",
    "original_string = \"This is a sample sentence.\"\n",
    "word_to_insert = \"new\"\n",
    "position_to_insert = 5\n",
    "\n",
    "new_string = insert_word_at_nth_position(original_string, word_to_insert, position_to_insert)\n",
    "print(new_string)\n",
    "\n"
   ]
  },
  {
   "cell_type": "code",
   "execution_count": 53,
   "id": "9d62e4fe-49b8-47fe-9134-05bef62d35a6",
   "metadata": {},
   "outputs": [
    {
     "name": "stdout",
     "output_type": "stream",
     "text": [
      "['Name, Age, Country', 'Alice, 25, USA', 'Bob, 30, Canada', 'Charlie, 28, UK']\n"
     ]
    }
   ],
   "source": [
    "csv_string = \"\"\"Name, Age, Country\n",
    "Alice, 25, USA\n",
    "Bob, 30, Canada\n",
    "Charlie, 28, UK\"\"\"\n",
    "\n",
    "a = csv_string.split('\\n')\n",
    "result = list(a)\n",
    "print(result)"
   ]
  },
  {
   "cell_type": "code",
   "execution_count": 54,
   "id": "98ee5be0-817b-46df-a8a5-998cf33097c8",
   "metadata": {},
   "outputs": [
    {
     "name": "stdout",
     "output_type": "stream",
     "text": [
      "['Name', ' Age', ' Country']\n",
      "['Alice', ' 25', ' USA']\n",
      "['Bob', ' 30', ' Canada']\n",
      "['Charlie', ' 28', ' UK']\n"
     ]
    }
   ],
   "source": [
    "csv_string = \"\"\"Name, Age, Country\n",
    "Alice, 25, USA\n",
    "Bob, 30, Canada\n",
    "Charlie, 28, UK\"\"\"\n",
    "\n",
    "# Split the CSV string into lines\n",
    "lines = csv_string.split('\\n')\n",
    "\n",
    "# Initialize an empty list to store the CSV data\n",
    "csv_data = []\n",
    "\n",
    "# Iterate through the lines and split each line into a list of values\n",
    "for line in lines:\n",
    "    row = line.split(',')\n",
    "    csv_data.append(row)\n",
    "\n",
    "# Print the resulting list of lists\n",
    "for row in csv_data:\n",
    "    print(row)\n"
   ]
  },
  {
   "cell_type": "code",
   "execution_count": 55,
   "id": "6360df7b-c6c8-457f-bb2e-d87ee24bc70e",
   "metadata": {},
   "outputs": [
    {
     "name": "stdout",
     "output_type": "stream",
     "text": [
      "['Name', ' Age', ' Country']\n",
      "['Alice', ' 25', ' USA']\n",
      "['Bob', ' 30', ' Canada']\n",
      "['Charlie', ' 28', ' UK']\n"
     ]
    }
   ],
   "source": [
    "import csv\n",
    "from io import StringIO\n",
    "\n",
    "csv_string = \"\"\"Name, Age, Country\n",
    "Alice, 25, USA\n",
    "Bob, 30, Canada\n",
    "Charlie, 28, UK\"\"\"\n",
    "\n",
    "# Create a CSV reader using StringIO to simulate reading from a string\n",
    "csv_reader = csv.reader(StringIO(csv_string))\n",
    "\n",
    "# Convert the CSV data into a list of lists\n",
    "csv_data = list(csv_reader)\n",
    "\n",
    "# Print the resulting list of lists\n",
    "for row in csv_data:\n",
    "    print(row)\n"
   ]
  },
  {
   "cell_type": "code",
   "execution_count": null,
   "id": "c8df26db-ee21-46d4-b412-d1c5019a1d18",
   "metadata": {},
   "outputs": [],
   "source": []
  }
 ],
 "metadata": {
  "kernelspec": {
   "display_name": "Python 3 (ipykernel)",
   "language": "python",
   "name": "python3"
  },
  "language_info": {
   "codemirror_mode": {
    "name": "ipython",
    "version": 3
   },
   "file_extension": ".py",
   "mimetype": "text/x-python",
   "name": "python",
   "nbconvert_exporter": "python",
   "pygments_lexer": "ipython3",
   "version": "3.10.8"
  }
 },
 "nbformat": 4,
 "nbformat_minor": 5
}
