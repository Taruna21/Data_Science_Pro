{
 "cells": [
  {
   "cell_type": "code",
   "execution_count": null,
   "id": "7f2bc5b4-3dae-4435-bd63-08ad0e075348",
   "metadata": {},
   "outputs": [],
   "source": [
    "#1. Create a list with integers from 1 to 10.\n",
    "list = []\n",
    "for i in range(1,11):\n",
    "    \n",
    "    list.append(i)\n",
    "print(list)\n",
    "       "
   ]
  },
  {
   "cell_type": "code",
   "execution_count": 13,
   "id": "462be190-8e8f-45ee-b802-38dc3e06956a",
   "metadata": {},
   "outputs": [
    {
     "name": "stdout",
     "output_type": "stream",
     "text": [
      "6\n"
     ]
    }
   ],
   "source": [
    "#2. Find the length of a list without using the `len()` function.\n",
    "\n",
    "list = [5,6,6,7,7,8]\n",
    "c=0\n",
    "for i in list:\n",
    "    c = c+1\n",
    "print(c)"
   ]
  },
  {
   "cell_type": "code",
   "execution_count": 20,
   "id": "be5a4c04-f85d-4760-8fda-3f83cc9e1a13",
   "metadata": {},
   "outputs": [
    {
     "name": "stdout",
     "output_type": "stream",
     "text": [
      "[5, 6, 7, 7, 8, 8, 7, 9]\n"
     ]
    }
   ],
   "source": [
    "#3. Append an element to the end of a list.\n",
    "\n",
    "list = [5,6,7,7,8,8,7]\n",
    "list.append(9)\n",
    "print(list)"
   ]
  },
  {
   "cell_type": "code",
   "execution_count": 23,
   "id": "379dd5c4-1d37-418c-8307-2d16595bbd80",
   "metadata": {},
   "outputs": [
    {
     "name": "stdout",
     "output_type": "stream",
     "text": [
      "[4, 6, 8, 67, 8]\n"
     ]
    }
   ],
   "source": [
    "#4. Insert an element at a specific index in a lis\n",
    "\n",
    "list = [4,6,67,8]\n",
    "list.insert(2, 8)\n",
    "print(list)\n"
   ]
  },
  {
   "cell_type": "code",
   "execution_count": 26,
   "id": "bce5e172-b35a-4d9e-ac90-cd8de6ccc62b",
   "metadata": {},
   "outputs": [
    {
     "name": "stdout",
     "output_type": "stream",
     "text": [
      "[4, 67, 8]\n"
     ]
    }
   ],
   "source": [
    "#5. Remove an element from a list by its value.\n",
    "\n",
    "list = [4,6,67,8]\n",
    "list.remove(6)\n",
    "print(list)\n"
   ]
  },
  {
   "cell_type": "code",
   "execution_count": 28,
   "id": "2505dd52-6043-426b-9895-de234e836372",
   "metadata": {},
   "outputs": [
    {
     "name": "stdout",
     "output_type": "stream",
     "text": [
      "[8, 9, 8]\n"
     ]
    }
   ],
   "source": [
    "#6. Remove an element from a list by its index\n",
    "\n",
    "list = [8,9,9,8]\n",
    "list.pop(1)\n",
    "print(list)"
   ]
  },
  {
   "cell_type": "code",
   "execution_count": 33,
   "id": "660bd6b4-b6f0-4f46-a914-ed871cb6d178",
   "metadata": {},
   "outputs": [
    {
     "name": "stdin",
     "output_type": "stream",
     "text": [
      " 8\n"
     ]
    },
    {
     "data": {
      "text/plain": [
       "False"
      ]
     },
     "execution_count": 33,
     "metadata": {},
     "output_type": "execute_result"
    }
   ],
   "source": [
    "#7. Check if an element exists in a list.\n",
    "def exist(list):\n",
    "    list = [1,3,5,66]\n",
    "    x = int(input())\n",
    "    if x in list:\n",
    "        return True\n",
    "    else:\n",
    "        return False\n",
    "\n",
    "exist(list)\n"
   ]
  },
  {
   "cell_type": "code",
   "execution_count": 37,
   "id": "9f0083be-3cf4-4c74-ae99-da99d2c080a1",
   "metadata": {},
   "outputs": [
    {
     "name": "stdout",
     "output_type": "stream",
     "text": [
      "0\n"
     ]
    }
   ],
   "source": [
    "#8. Find the index of the first occurrence of an element in a list.\n",
    "\n",
    "def find_occurence(list, element):\n",
    "    list = [12,12,4,6,7]\n",
    "  \n",
    "    result = list.index(element)\n",
    "    print(result)\n",
    "\n",
    "element = 12\n",
    "find_occurence(list, element)\n",
    "\n",
    "    "
   ]
  },
  {
   "cell_type": "code",
   "execution_count": 38,
   "id": "2b6d56e8-036d-418c-a8f0-b826260261f2",
   "metadata": {},
   "outputs": [
    {
     "name": "stdout",
     "output_type": "stream",
     "text": [
      "2\n"
     ]
    }
   ],
   "source": [
    "#9. Count the occurrences of an element in a list.\n",
    "\n",
    "\n",
    "def find_occurence(list, element):\n",
    "    list = [12,12,4,6,7]\n",
    "  \n",
    "    result = list.count(element)\n",
    "    print(result)\n",
    "\n",
    "element = 12\n",
    "find_occurence(list, element)\n"
   ]
  },
  {
   "cell_type": "code",
   "execution_count": 39,
   "id": "3be622bc-95d3-4675-8068-4864c30cb50b",
   "metadata": {},
   "outputs": [
    {
     "name": "stdout",
     "output_type": "stream",
     "text": [
      "[4, 3, 4, 2, 1]\n"
     ]
    }
   ],
   "source": [
    "#reverse the order\n",
    "\n",
    "list = [1,2,4,3,4]\n",
    "list.reverse()\n",
    "print(list)"
   ]
  },
  {
   "cell_type": "code",
   "execution_count": 41,
   "id": "68a6eb1f-976f-42a7-a906-c37654e1c0ca",
   "metadata": {},
   "outputs": [
    {
     "name": "stdout",
     "output_type": "stream",
     "text": [
      "[2, 3, 3, 3, 5, 5, 6, 7]\n"
     ]
    }
   ],
   "source": [
    "#11. Sort a list in ascending order.\n",
    "\n",
    "list = [2,3,5,6,7,5,3,3]\n",
    "list.sort()\n",
    "print(list)"
   ]
  },
  {
   "cell_type": "code",
   "execution_count": 44,
   "id": "a2ff22f5-3555-413e-a3db-7dc3cbfce9ba",
   "metadata": {},
   "outputs": [
    {
     "name": "stdout",
     "output_type": "stream",
     "text": [
      "[7, 6, 5, 5, 3, 3, 3, 2]\n"
     ]
    }
   ],
   "source": [
    "#12. Sort a list in descending order.\n",
    "\n",
    "\n",
    "list = [2,3,5,6,7,5,3,3]\n",
    "list.sort()\n",
    "list.reverse()\n",
    "print(list)"
   ]
  },
  {
   "cell_type": "code",
   "execution_count": 45,
   "id": "b9ec46e6-04d2-4ef5-a602-9df00cda6cb3",
   "metadata": {},
   "outputs": [
    {
     "name": "stdout",
     "output_type": "stream",
     "text": [
      "[2, 4, 6, 8, 10, 12, 14, 16, 18, 20]\n"
     ]
    }
   ],
   "source": [
    "#13. Create a list of even numbers from 1 to 20.\n",
    "\n",
    "list = []\n",
    "for x in range(1,21) :\n",
    "    if x%2 == 0:\n",
    "        list.append(x)\n",
    "print(list)\n",
    "    "
   ]
  },
  {
   "cell_type": "code",
   "execution_count": 46,
   "id": "312784d1-c9cc-46bc-9ac4-7551dcb6598a",
   "metadata": {},
   "outputs": [
    {
     "name": "stdout",
     "output_type": "stream",
     "text": [
      "[1, 3, 5, 7, 9, 11, 13, 15, 17, 19]\n"
     ]
    }
   ],
   "source": [
    "#14. Create a list of odd numbers from 1 to 20.\n",
    "\n",
    "\n",
    "list = []\n",
    "for x in range(1,21) :\n",
    "    if x%2 != 0:\n",
    "        list.append(x)\n",
    "print(list)\n"
   ]
  },
  {
   "cell_type": "code",
   "execution_count": 1,
   "id": "b993a2dc-d69f-4ecd-930c-95c2fe4ad839",
   "metadata": {},
   "outputs": [
    {
     "name": "stdout",
     "output_type": "stream",
     "text": [
      "20\n"
     ]
    }
   ],
   "source": [
    "list = [1,3,5,5,6]\n",
    "s = sum(list)\n",
    "print(s)"
   ]
  },
  {
   "cell_type": "code",
   "execution_count": 2,
   "id": "855cc8f2-a3f6-4d9e-a0d7-a84c1244194b",
   "metadata": {},
   "outputs": [
    {
     "name": "stdout",
     "output_type": "stream",
     "text": [
      "7\n"
     ]
    }
   ],
   "source": [
    "#16. Find the maximum value in a list.\n",
    "\n",
    "list = [1,2,5,7]\n",
    "m = max(list)\n",
    "print(m)"
   ]
  },
  {
   "cell_type": "code",
   "execution_count": 3,
   "id": "9f106f7e-5565-4bf2-9c5b-0dda92cd8614",
   "metadata": {},
   "outputs": [
    {
     "name": "stdout",
     "output_type": "stream",
     "text": [
      "2\n"
     ]
    }
   ],
   "source": [
    "#find mini\n",
    "\n",
    "list = [2,4,5]\n",
    "m = min(list)\n",
    "print(m)"
   ]
  },
  {
   "cell_type": "code",
   "execution_count": 9,
   "id": "bde0224b-61af-4015-ae66-df05f859c98b",
   "metadata": {},
   "outputs": [
    {
     "name": "stdout",
     "output_type": "stream",
     "text": [
      "[1, 4, 9, 16, 25, 36, 49, 64, 81, 100]\n"
     ]
    }
   ],
   "source": [
    "#18. Create a list of squares of numbers from 1 to 10.\n",
    "\n",
    "list = [x**2 for x in range(1,11) ]\n",
    "print(list)"
   ]
  },
  {
   "cell_type": "code",
   "execution_count": 17,
   "id": "51940988-2662-49d3-9834-9cfcf7b6713f",
   "metadata": {},
   "outputs": [
    {
     "name": "stdin",
     "output_type": "stream",
     "text": [
      " 7\n",
      " 8\n"
     ]
    },
    {
     "name": "stdout",
     "output_type": "stream",
     "text": [
      "[7]\n"
     ]
    }
   ],
   "source": [
    "#19. Create a list of random numbers.\n",
    "\n",
    "def list_random(list, n):\n",
    "    n = len(list)\n",
    "    for x in range"
   ]
  },
  {
   "cell_type": "code",
   "execution_count": 19,
   "id": "6f059770-db55-450b-8de7-73be25190797",
   "metadata": {},
   "outputs": [
    {
     "name": "stdout",
     "output_type": "stream",
     "text": [
      "[65, 4, 51, 88, 41, 54, 13, 83, 56, 45]\n"
     ]
    }
   ],
   "source": [
    "import random\n",
    "\n",
    "# Define the range and size of the list\n",
    "list_size = 10  # You can change this to the desired size of your list\n",
    "min_value = 1   # Minimum value for random numbers\n",
    "max_value = 100 # Maximum value for random numbers\n",
    "\n",
    "# Generate a list of unique random numbers\n",
    "random_list = random.sample(range(min_value, max_value + 1), list_size)\n",
    "\n",
    "print(random_list)\n"
   ]
  },
  {
   "cell_type": "code",
   "execution_count": 20,
   "id": "3e93279d-7e8c-43c2-96e5-c88d68bff837",
   "metadata": {},
   "outputs": [
    {
     "name": "stdout",
     "output_type": "stream",
     "text": [
      "[42, 43, 44, 45, 46, 47, 48, 49, 50, 51]\n"
     ]
    }
   ],
   "source": [
    "# Define the size of the list\n",
    "list_size = 10\n",
    "\n",
    "# Seed the random number generator (optional)\n",
    "seed_value = 42\n",
    "hash_seed = hash(seed_value)\n",
    "\n",
    "# Generate a list of \"random\" numbers\n",
    "random_list = [hash(hash_seed + i) % 100 for i in range(list_size)]\n",
    "\n",
    "print(random_list)\n"
   ]
  },
  {
   "cell_type": "code",
   "execution_count": 22,
   "id": "22b14601-8437-4ada-9290-a73d1fcf350a",
   "metadata": {},
   "outputs": [
    {
     "name": "stdout",
     "output_type": "stream",
     "text": [
      "{1, 3, 6, 55}\n"
     ]
    }
   ],
   "source": [
    "#20. Remove duplicates from a list.\n",
    "\n",
    "\n",
    "list = [1,3,55,55,6,6,6,6]\n",
    "c = set(list)\n",
    "print(c)"
   ]
  },
  {
   "cell_type": "code",
   "execution_count": 37,
   "id": "29896b7d-b6f7-4aad-ad82-6b55512b0858",
   "metadata": {},
   "outputs": [
    {
     "name": "stdout",
     "output_type": "stream",
     "text": [
      "1 2 3 "
     ]
    }
   ],
   "source": [
    "#21. Find the common elements between two lists.\n",
    "\n",
    "list_1 = [1,2,3,4,5]\n",
    "list_2 = [1,2,3,8,7,8]\n",
    "for x in list_1:\n",
    "    if x in list_2:\n",
    "        print(x , end= \" \")"
   ]
  },
  {
   "cell_type": "code",
   "execution_count": 38,
   "id": "0f03779a-55cc-499a-ab8a-cd56b1442e88",
   "metadata": {},
   "outputs": [
    {
     "name": "stdout",
     "output_type": "stream",
     "text": [
      "Elements in list_1 but not in list_2: [1, 2]\n",
      "Elements in list_2 but not in list_1: [6, 7]\n"
     ]
    }
   ],
   "source": [
    "#22. Find the difference between two lists.\n",
    "\n",
    "list_1 = [1, 2, 3, 4, 5]\n",
    "list_2 = [3, 4, 5, 6, 7]\n",
    "\n",
    "# Find the difference between list_1 and list_2\n",
    "difference_1 = [item for item in list_1 if item not in list_2]\n",
    "difference_2 = [item for item in list_2 if item not in list_1]\n",
    "\n",
    "print(\"Elements in list_1 but not in list_2:\", difference_1)\n",
    "print(\"Elements in list_2 but not in list_1:\", difference_2)\n"
   ]
  },
  {
   "cell_type": "code",
   "execution_count": 41,
   "id": "ca84d2d3-034d-4136-b6ed-ad0b3969436e",
   "metadata": {},
   "outputs": [
    {
     "name": "stdout",
     "output_type": "stream",
     "text": [
      "[1, 2, 3, 4, 5, 6]\n",
      "[1, 2, 3, 4, 5, 6]\n"
     ]
    }
   ],
   "source": [
    "#merge list\n",
    "\n",
    "l1 = [1,2,3]\n",
    "l2 = [4,5,6]\n",
    "l3 = l1 + l2\n",
    "print(l3)\n",
    "\n",
    "l1.extend(l2)\n",
    "print(l1)"
   ]
  },
  {
   "cell_type": "code",
   "execution_count": 43,
   "id": "e93f9042-9bdc-4cd5-8fed-6d28bfebb34b",
   "metadata": {},
   "outputs": [
    {
     "name": "stdout",
     "output_type": "stream",
     "text": [
      "[2, 4, 6, 8]\n"
     ]
    }
   ],
   "source": [
    "#24. Multiply all elements in a list by 2.\n",
    "l1 = [1,2,3,4]\n",
    "l = [x*2 for x in l1]\n",
    "print(l)"
   ]
  },
  {
   "cell_type": "code",
   "execution_count": 8,
   "id": "63c2a03e-79b9-4e6b-a2b4-f35c5359f74c",
   "metadata": {},
   "outputs": [
    {
     "name": "stdout",
     "output_type": "stream",
     "text": [
      "2 4 6 8 8 2 4 6 "
     ]
    }
   ],
   "source": [
    "#25. Filter out all even numbers from a list.\n",
    "\n",
    "list = [1,2,4,5,6,7,8,9,8,5,2,4,6,7]\n",
    "for x in list :\n",
    "    if x%2 == 0:\n",
    "        \n",
    "        print(x , end = \" \")\n",
    "        \n",
    " "
   ]
  },
  {
   "cell_type": "code",
   "execution_count": 16,
   "id": "32c85ec2-c36a-406e-af91-ee6bb7de502a",
   "metadata": {},
   "outputs": [
    {
     "name": "stdout",
     "output_type": "stream",
     "text": [
      "[1, 12]\n"
     ]
    }
   ],
   "source": [
    "#26. Convert a list of strings to a list of integers.\n",
    "\n",
    "l = [\"1\" , \"12\" ]\n",
    "z = [int(x) for x in l]\n",
    "print(z)"
   ]
  },
  {
   "cell_type": "code",
   "execution_count": 18,
   "id": "b155520b-7fa6-402f-8cbe-862973fd0706",
   "metadata": {},
   "outputs": [
    {
     "name": "stdout",
     "output_type": "stream",
     "text": [
      "['1', '2', '4']\n"
     ]
    }
   ],
   "source": [
    "#27. Convert a list of integers to a list of strings.\n",
    "\n",
    "l = [1,2,4]\n",
    "string = [str(x) for x in l]\n",
    "print(string)"
   ]
  },
  {
   "cell_type": "code",
   "execution_count": null,
   "id": "dc4d4185-2437-4e01-adf4-9030ef7790e0",
   "metadata": {},
   "outputs": [],
   "source": [
    "#28. Flatten a nested list.\n",
    "\n"
   ]
  }
 ],
 "metadata": {
  "kernelspec": {
   "display_name": "Python 3 (ipykernel)",
   "language": "python",
   "name": "python3"
  },
  "language_info": {
   "codemirror_mode": {
    "name": "ipython",
    "version": 3
   },
   "file_extension": ".py",
   "mimetype": "text/x-python",
   "name": "python",
   "nbconvert_exporter": "python",
   "pygments_lexer": "ipython3",
   "version": "3.10.8"
  }
 },
 "nbformat": 4,
 "nbformat_minor": 5
}
